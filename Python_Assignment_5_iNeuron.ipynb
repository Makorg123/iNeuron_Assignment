{
 "cells": [
  {
   "cell_type": "markdown",
   "metadata": {},
   "source": [
    "### 1. WAP to find LCM?"
   ]
  },
  {
   "cell_type": "code",
   "execution_count": 6,
   "metadata": {},
   "outputs": [
    {
     "name": "stdout",
     "output_type": "stream",
     "text": [
      "Enter First Number: 54\n",
      "Enter Second Number: 24\n",
      "The L.C.M. is 216\n"
     ]
    }
   ],
   "source": [
    "num1 = int(input(\"Enter First Number: \"))\n",
    "num2 = int(input(\"Enter Second Number: \"))\n",
    "\n",
    "if (num1 > num2):\n",
    "    max = num1\n",
    "else:\n",
    "    max = num2\n",
    "while(True):\n",
    "    if(max % num1 == 0 and max % num2 ==0):\n",
    "        print(\"The L.C.M. is\",max)\n",
    "        break;\n",
    "    max = max +1"
   ]
  },
  {
   "cell_type": "markdown",
   "metadata": {},
   "source": [
    "### 2. WAP to find HCF?"
   ]
  },
  {
   "cell_type": "code",
   "execution_count": 10,
   "metadata": {},
   "outputs": [
    {
     "name": "stdout",
     "output_type": "stream",
     "text": [
      "Enter the First Number36\n",
      "Enter the Second Number60\n",
      "HCF of 36 and 60 is : 12\n"
     ]
    }
   ],
   "source": [
    "num1 = int(input(\"Enter the First Number\"))\n",
    "num2 = int(input(\"Enter the Second Number\"))\n",
    "\n",
    "a = num1\n",
    "b = num2\n",
    "\n",
    "while num1 != num2:\n",
    "    if num1 > num2:\n",
    "        num1 -= num2\n",
    "    else:\n",
    "        num2 -= num1\n",
    "\n",
    "print(\"HCF of\", a, \"and\", b, \"is :\", num1)"
   ]
  },
  {
   "cell_type": "markdown",
   "metadata": {},
   "source": [
    "### 3. WAP to Convert Decimal to Binary, Octal and Hexadecimal?"
   ]
  },
  {
   "cell_type": "code",
   "execution_count": 14,
   "metadata": {},
   "outputs": [
    {
     "name": "stdout",
     "output_type": "stream",
     "text": [
      "Enter the Decimal Number: 344\n",
      "The decimal value of 344 is:\n",
      "In Binary = 0b101011000\n",
      "In Octal = 0o530\n",
      "In Hexadecimal = 0x158\n"
     ]
    }
   ],
   "source": [
    "num = int(input(\"Enter the Decimal Number: \"))\n",
    "\n",
    "print(\"The decimal value of\", num, \"is:\")\n",
    "print( \"In Binary =\", bin(num))\n",
    "print(\"In Octal =\", oct(num) )\n",
    "print( \"In Hexadecimal =\", hex(num))"
   ]
  },
  {
   "cell_type": "markdown",
   "metadata": {},
   "source": [
    "### 4. WAP to Find ASCII value of a character?"
   ]
  },
  {
   "cell_type": "code",
   "execution_count": 18,
   "metadata": {},
   "outputs": [
    {
     "name": "stdout",
     "output_type": "stream",
     "text": [
      "Enter the Character [a-z][A-Z]A\n",
      "The ASCII value of 'A' is 65\n"
     ]
    }
   ],
   "source": [
    "char = input(\"Enter the Character [a-z][A-Z]\")\n",
    "\n",
    "print(\"The ASCII value of '\" + char + \"' is\", ord(char))"
   ]
  },
  {
   "cell_type": "markdown",
   "metadata": {},
   "source": [
    "### 5. WAP to Make a Simple Calculator with 4 basic mathematical operations?"
   ]
  },
  {
   "cell_type": "code",
   "execution_count": 21,
   "metadata": {},
   "outputs": [
    {
     "name": "stdout",
     "output_type": "stream",
     "text": [
      "Enter first number3\n",
      "Enter second number4\n",
      "\n",
      "The Addition of 3 and 4 is:  7\n",
      "The Subtraction of 3 and 4 is:  -1\n",
      "The Division of 3 and 4 is:  0.75\n",
      "The Multiplication of 3 and 4 is:  12\n"
     ]
    }
   ],
   "source": [
    "num1 = int(input(\"Enter first number\"))\n",
    "num2 = int(input(\"Enter second number\"))\n",
    "\n",
    "add = num1 + num2\n",
    "sub = num1 - num2\n",
    "div = num1 / num2\n",
    "mul = num1 * num2\n",
    "\n",
    "print(\"\\nThe Addition of\",num1, \"and\", num2, \"is: \", add)\n",
    "print(\"The Subtraction of\",num1, \"and\", num2, \"is: \", sub)\n",
    "print(\"The Division of\",num1, \"and\", num2, \"is: \", div)\n",
    "print(\"The Multiplication of\",num1, \"and\", num2, \"is: \", mul)"
   ]
  },
  {
   "cell_type": "code",
   "execution_count": 23,
   "metadata": {},
   "outputs": [
    {
     "name": "stdout",
     "output_type": "stream",
     "text": [
      "Please select operation -\n",
      "1. Add\n",
      "2. Subtract\n",
      "3. Multiply\n",
      "4. Divide\n",
      "\n",
      "Select operations form 1, 2, 3, 4 :1\n",
      "Enter first number: 23\n",
      "Enter second number: 32\n",
      "23 + 32 = 55\n"
     ]
    }
   ],
   "source": [
    "\n",
    "def add(num1, num2):\n",
    "    return num1 + num2\n",
    " \n",
    "def subtract(num1, num2):\n",
    "    return num1 - num2\n",
    "\n",
    "def multiply(num1, num2):\n",
    "    return num1 * num2\n",
    " \n",
    "def divide(num1, num2):\n",
    "    return num1 / num2\n",
    " \n",
    "print(\"Please select operation -\\n\" \\\n",
    "        \"1. Add\\n\" \\\n",
    "        \"2. Subtract\\n\" \\\n",
    "        \"3. Multiply\\n\" \\\n",
    "        \"4. Divide\\n\")\n",
    " \n",
    " \n",
    "select = int(input(\"Select operations form 1, 2, 3, 4 :\"))\n",
    " \n",
    "number_1 = int(input(\"Enter first number: \"))\n",
    "number_2 = int(input(\"Enter second number: \"))\n",
    " \n",
    "if select == 1:\n",
    "    print(number_1, \"+\", number_2, \"=\",\n",
    "                    add(number_1, number_2))\n",
    " \n",
    "elif select == 2:\n",
    "    print(number_1, \"-\", number_2, \"=\",\n",
    "                    subtract(number_1, number_2))\n",
    " \n",
    "elif select == 3:\n",
    "    print(number_1, \"*\", number_2, \"=\",\n",
    "                    multiply(number_1, number_2))\n",
    " \n",
    "elif select == 4:\n",
    "    print(number_1, \"/\", number_2, \"=\",\n",
    "                    divide(number_1, number_2))\n",
    "else:\n",
    "    print(\"Invalid input\")"
   ]
  },
  {
   "cell_type": "code",
   "execution_count": null,
   "metadata": {},
   "outputs": [],
   "source": []
  }
 ],
 "metadata": {
  "kernelspec": {
   "display_name": "Python 3",
   "language": "python",
   "name": "python3"
  },
  "language_info": {
   "codemirror_mode": {
    "name": "ipython",
    "version": 3
   },
   "file_extension": ".py",
   "mimetype": "text/x-python",
   "name": "python",
   "nbconvert_exporter": "python",
   "pygments_lexer": "ipython3",
   "version": "3.8.5"
  }
 },
 "nbformat": 4,
 "nbformat_minor": 4
}
