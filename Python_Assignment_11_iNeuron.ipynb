{
 "cells": [
  {
   "cell_type": "markdown",
   "metadata": {},
   "source": [
    "### 1. Write a Python program to find words which are greater than given length k?"
   ]
  },
  {
   "cell_type": "code",
   "execution_count": 4,
   "metadata": {},
   "outputs": [
    {
     "name": "stdout",
     "output_type": "stream",
     "text": [
      "['iNeuron', 'PWSkill']\n"
     ]
    }
   ],
   "source": [
    "def string_k(k, str):\n",
    "     \n",
    "    # create the empty string\n",
    "    string = []\n",
    "     \n",
    "    # split the string where space is comes\n",
    "    text = str.split(\" \")\n",
    "     \n",
    "    # iterate the loop till every substring\n",
    "    for x in text:\n",
    "         \n",
    "        # if length of current sub string\n",
    "        # is greater than k then\n",
    "        if len(x) > k:\n",
    "             \n",
    "            # append this sub string in\n",
    "            # string list\n",
    "            string.append(x)\n",
    "             \n",
    "     # return string list\n",
    "    return string\n",
    " \n",
    "  \n",
    "k = 3\n",
    "str =\"iNeuron now PWSkill\"\n",
    "print(string_k(k, str)) "
   ]
  },
  {
   "cell_type": "markdown",
   "metadata": {},
   "source": [
    "### 2. Write a Python program for removing i-th character from a string?"
   ]
  },
  {
   "cell_type": "code",
   "execution_count": 6,
   "metadata": {},
   "outputs": [
    {
     "name": "stdout",
     "output_type": "stream",
     "text": [
      "iNeuroANDPWSkills\n"
     ]
    }
   ],
   "source": [
    "def remove(string, i):\n",
    " \n",
    "    # Characters before the i-th indexed\n",
    "    # is stored in a variable a\n",
    "    a = string[: i]\n",
    " \n",
    "    # Characters after the nth indexed\n",
    "    # is stored in a variable b\n",
    "    b = string[i + 1:]\n",
    " \n",
    "    # Returning string after removing\n",
    "    # nth indexed character.\n",
    "    return a + b\n",
    " \n",
    "if __name__ == '__main__':\n",
    " \n",
    "    string = \"iNeuronANDPWSkills\"\n",
    " \n",
    "    # Remove nth index element\n",
    "    i = 6\n",
    " \n",
    "    # Print the new string\n",
    "    print(remove(string, i))"
   ]
  },
  {
   "cell_type": "markdown",
   "metadata": {},
   "source": [
    "### 3. Write a Python program to split and join a string?"
   ]
  },
  {
   "cell_type": "code",
   "execution_count": 8,
   "metadata": {},
   "outputs": [
    {
     "name": "stdout",
     "output_type": "stream",
     "text": [
      "After Splitting:  ['Welcome', 'to', 'IT', 'zone']\n",
      "After joining:  Welcome-to-IT-zone\n"
     ]
    }
   ],
   "source": [
    "def split_string(string):\n",
    "    # Splitting based on space delimiter\n",
    "    list_string = string.split(' ')\n",
    "    return list_string\n",
    "\n",
    "def join_string(list_string):\n",
    "    # Joining based on '-' delimiter\n",
    "    string = '-'.join(list_string)\n",
    "    return string\n",
    "\n",
    "string = 'Welcome to IT zone'\n",
    "# Splitting a string\n",
    "list_string = split_string(string)\n",
    "print(\"After Splitting: \",list_string)\n",
    "\n",
    "# Join list of strings into one\n",
    "res_string = join_string(list_string)\n",
    "print(\"After joining: \",res_string)"
   ]
  },
  {
   "cell_type": "markdown",
   "metadata": {},
   "source": [
    "### 4. Write a Python to check if a given string is binary string or not?"
   ]
  },
  {
   "cell_type": "code",
   "execution_count": 12,
   "metadata": {},
   "outputs": [
    {
     "name": "stdout",
     "output_type": "stream",
     "text": [
      "String A is a binary string.\n",
      "String B is not a binary string.\n"
     ]
    }
   ],
   "source": [
    "stringA = '0110101010111'\n",
    "b = {'0','1'}\n",
    "t = set(stringA)\n",
    "\n",
    "if b == t or t == {'0'} or t == {'1'}:\n",
    "    print(\"String A is a binary string.\")\n",
    "else:\n",
    "    print(\"String A is not a binary string.\")\n",
    "\n",
    "stringB = '0120101010111'\n",
    "u = set(stringB)\n",
    "\n",
    "if b == u or u == {'0'} or u == {'1'}:\n",
    "    print(\"String B is a binary string.\")\n",
    "else:\n",
    "    print(\"String B is not a binary string.\")"
   ]
  },
  {
   "cell_type": "markdown",
   "metadata": {},
   "source": [
    "### 5. Write a Python program to find uncommon words from two Strings?"
   ]
  },
  {
   "cell_type": "code",
   "execution_count": 14,
   "metadata": {},
   "outputs": [
    {
     "name": "stdout",
     "output_type": "stream",
     "text": [
      "['and', 'Pwskills', 'Learning', 'from', 'the', 'best', 'platform']\n"
     ]
    }
   ],
   "source": [
    "def UncommonWords(A, B):\n",
    " \n",
    "    # count will contain all the word counts\n",
    "    count = {}\n",
    " \n",
    "    # insert words of string A to hash\n",
    "    for word in A.split():\n",
    "        count[word] = count.get(word, 0) + 1\n",
    " \n",
    "    # insert words of string B to hash\n",
    "    for word in B.split():\n",
    "        count[word] = count.get(word, 0) + 1\n",
    " \n",
    "    # return required list of words\n",
    "    return [word for word in count if count[word] == 1]\n",
    " \n",
    " \n",
    "A = \"iNeuron and Pwskills\"\n",
    "B = \"Learning from iNeuron the best platform \"\n",
    " \n",
    "# Print required answer\n",
    "print(UncommonWords(A, B))"
   ]
  },
  {
   "cell_type": "markdown",
   "metadata": {},
   "source": [
    "### 6. Write a Python to find all duplicate characters in string?"
   ]
  },
  {
   "cell_type": "code",
   "execution_count": 16,
   "metadata": {},
   "outputs": [
    {
     "name": "stdout",
     "output_type": "stream",
     "text": [
      "All the duplicate characters in the string are: \n",
      "e  -  8\n",
      "l  -  3\n",
      "o  -  6\n",
      "m  -  2\n",
      "e  -  7\n",
      "t  -  4\n",
      "o  -  5\n",
      "i  -  2\n",
      "e  -  6\n",
      "r  -  5\n",
      "o  -  4\n",
      "n  -  4\n",
      "t  -  3\n",
      "e  -  5\n",
      "e  -  4\n",
      "t  -  2\n",
      "l  -  2\n",
      "e  -  3\n",
      "a  -  2\n",
      "r  -  4\n",
      "n  -  3\n",
      "n  -  2\n",
      "f  -  2\n",
      "o  -  3\n",
      "r  -  3\n",
      "o  -  2\n",
      "r  -  2\n",
      "e  -  2\n"
     ]
    }
   ],
   "source": [
    "string = \"Welcome to iNeuron the best learning platform for everyone\";\n",
    "print(\"All the duplicate characters in the string are: \"); \n",
    "# Counting every characters of the string \n",
    "for s in range(0, len(string)): \n",
    "   count = 1; \n",
    "   for t in range(s+1, len(string)):\n",
    "      if(string[s] == string[t] and string[s] != ' '): \n",
    "         count = count + 1; \n",
    "# setting the string t to 0 to avoid printing the characters already taken \n",
    "   string = string[:t] + '0' + string[t+1:]; \n",
    "# If the count is greater than 1, the character is considered as duplicate \n",
    "   if(count > 1 and string[s] != '0'): \n",
    "      print(string[s],\" - \",count);"
   ]
  },
  {
   "cell_type": "markdown",
   "metadata": {},
   "source": [
    "### 7. Write a Python Program to check if a string contains any special character?"
   ]
  },
  {
   "cell_type": "code",
   "execution_count": 18,
   "metadata": {},
   "outputs": [
    {
     "name": "stdout",
     "output_type": "stream",
     "text": [
      "String is not accepted.\n"
     ]
    }
   ],
   "source": [
    "import re\n",
    " \n",
    "# Function checks if the string\n",
    "# contains any special character\n",
    "def run(string):\n",
    " \n",
    "    # Make own character set and pass\n",
    "    # this as argument in compile method\n",
    "    regex = re.compile('[@_!#$%^&*()<>?/\\|}{~:]')\n",
    "     \n",
    "    # Pass the string in search\n",
    "    # method of regex object.   \n",
    "    if(regex.search(string) == None):\n",
    "        print(\"String is accepted\")\n",
    "         \n",
    "    else:\n",
    "        print(\"String is not accepted.\")\n",
    "     \n",
    " \n",
    "if __name__ == '__main__' :\n",
    "     \n",
    "    # Enter the string\n",
    "    string = \"poin$For$point\"\n",
    "     \n",
    "    # calling run function\n",
    "    run(string)"
   ]
  }
 ],
 "metadata": {
  "kernelspec": {
   "display_name": "Python 3",
   "language": "python",
   "name": "python3"
  },
  "language_info": {
   "codemirror_mode": {
    "name": "ipython",
    "version": 3
   },
   "file_extension": ".py",
   "mimetype": "text/x-python",
   "name": "python",
   "nbconvert_exporter": "python",
   "pygments_lexer": "ipython3",
   "version": "3.8.5"
  }
 },
 "nbformat": 4,
 "nbformat_minor": 4
}
